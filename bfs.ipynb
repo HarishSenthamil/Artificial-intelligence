{
 "cells": [
  {
   "cell_type": "code",
   "execution_count": 9,
   "id": "bace0aba-d4e3-4038-acf8-4248416f05f2",
   "metadata": {},
   "outputs": [
    {
     "name": "stdout",
     "output_type": "stream",
     "text": [
      "A -> C -> F -> \n",
      "\n",
      "BFS Steps:\n",
      "Current Node    QUEUE                Processed Nodes                Status               Parent Nodes\n",
      "                                                                  A B C D E F                      A B C D E F\n",
      "A                                    A                              2 0 0 0 0 0          - - - - - -\n",
      "B               C                    B, A                           2 2 1 0 0 0          - A A - - -\n",
      "C               D, E                 C, B, A                        2 2 2 1 1 0          - A A B B -\n",
      "D               E, F                 C, D, B, A                     2 2 2 2 1 1          - A A B B C\n",
      "E               F                    B, A, E, D, C                  2 2 2 2 2 1          - A A B B C\n"
     ]
    }
   ],
   "source": [
    "from collections import deque\n",
    "\n",
    "class Node:\n",
    "    def __init__(self, state, parent=None):\n",
    "        self.state = state\n",
    "        self.parent = parent\n",
    "\n",
    "def bfs(graph, initial_state, goal_state):\n",
    "    frontier = deque([Node(initial_state)])\n",
    "    explored = set()\n",
    "    steps = []\n",
    "    all_nodes = set(graph.keys()).union(set(n for neighbors in graph.values() for n in neighbors))\n",
    "    parent_map = {node: None for node in all_nodes}  # Initialize parent_map for all nodes\n",
    "\n",
    "    while frontier:\n",
    "        node = frontier.popleft()\n",
    "        if node.state == goal_state:\n",
    "            print_solution(node)\n",
    "            print()\n",
    "            print_bfs_steps(steps, all_nodes)\n",
    "            return\n",
    "        explored.add(node.state)\n",
    "        record_step(steps, all_nodes, node.state, frontier, explored, parent_map)\n",
    "\n",
    "        for adjacent in graph.get(node.state, []):\n",
    "            if adjacent not in explored and not any(n.state == adjacent for n in frontier):\n",
    "                frontier.append(Node(adjacent, node))\n",
    "                parent_map[adjacent] = node.state\n",
    "\n",
    "    print(\"Failure\")\n",
    "    print_bfs_steps(steps, all_nodes)\n",
    "\n",
    "def record_step(steps, all_nodes, current, frontier, explored, parent_map):\n",
    "    step = {\n",
    "        'current_node': current,\n",
    "        'queue': [n.state for n in frontier],\n",
    "        'explored': list(explored),\n",
    "        'status': {n: '2' if n in explored else '1' if any(f.state == n for f in frontier) else '0' for n in all_nodes},\n",
    "        'parents': {n: parent_map[n] if parent_map[n] is not None else '-' for n in all_nodes}\n",
    "    }\n",
    "    steps.append(step)\n",
    "\n",
    "def print_solution(node):\n",
    "    if node.parent:\n",
    "        print_solution(node.parent)\n",
    "    print(f\"{node.state} -> \", end='')\n",
    "\n",
    "def print_bfs_steps(steps, all_nodes):\n",
    "    print(\"\\nBFS Steps:\")\n",
    "    header = f\"{'Current Node':<15} {'QUEUE':<20} {'Processed Nodes':<30} {'Status':<20} {'Parent Nodes'}\"\n",
    "    print(header)\n",
    "    node_headers = ' '.join(sorted(all_nodes))\n",
    "    print(f\"{'':<65} {node_headers} {'':<20} {node_headers}\")\n",
    "    for step in steps:\n",
    "        status = ' '.join(step['status'][n] for n in sorted(all_nodes))\n",
    "        parents = ' '.join(step['parents'][n] for n in sorted(all_nodes))\n",
    "        print(f\"{step['current_node']:<15} {', '.join(step['queue']):<20} {', '.join(step['explored']):<30} {status:<20} {parents}\")\n",
    "\n",
    "if __name__ == \"__main__\":\n",
    "    graph = {\n",
    "        'A': ['B', 'C'],\n",
    "        'B': ['D', 'E'],\n",
    "        'C': ['F'],\n",
    "        'D': [],\n",
    "        'E': ['F'],\n",
    "        'F': []\n",
    "    }\n",
    "    bfs(graph, 'A', 'F')\n"
   ]
  },
  {
   "cell_type": "code",
   "execution_count": null,
   "id": "358bf8c0-4db0-4adc-86ca-d8219be102b9",
   "metadata": {},
   "outputs": [],
   "source": []
  }
 ],
 "metadata": {
  "kernelspec": {
   "display_name": "Python 3 (ipykernel)",
   "language": "python",
   "name": "python3"
  },
  "language_info": {
   "codemirror_mode": {
    "name": "ipython",
    "version": 3
   },
   "file_extension": ".py",
   "mimetype": "text/x-python",
   "name": "python",
   "nbconvert_exporter": "python",
   "pygments_lexer": "ipython3",
   "version": "3.12.2"
  }
 },
 "nbformat": 4,
 "nbformat_minor": 5
}
