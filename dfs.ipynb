{
 "cells": [
  {
   "cell_type": "code",
   "execution_count": 1,
   "id": "f6dc104f-f525-4fef-a3ce-50cc5c7c6939",
   "metadata": {},
   "outputs": [
    {
     "name": "stdout",
     "output_type": "stream",
     "text": [
      "A -> B -> E -> F -> \n",
      "\n",
      "DFS Steps:\n",
      "Current Node    STACK                Processed Nodes                Status               Parent Nodes\n",
      "                                                                  A B C D E F                      A B C D E F\n",
      "A                                    A                              2 0 0 0 0 0          - - - - - -\n",
      "B               C                    A, B                           2 2 1 0 0 0          - A A - - -\n",
      "D               C, E                 D, A, B                        2 2 1 2 1 0          - A A B B -\n",
      "E               C                    D, A, B, E                     2 2 1 2 2 0          - A A B B -\n"
     ]
    }
   ],
   "source": [
    "class Node:\n",
    "    def __init__(self, state, parent=None):\n",
    "        self.state = state\n",
    "        self.parent = parent\n",
    "\n",
    "def dfs(graph, initial_state, goal_state):\n",
    "    stack = [Node(initial_state)]\n",
    "    explored = set()\n",
    "    steps = []\n",
    "    all_nodes = set(graph.keys()).union(set(n for neighbors in graph.values() for n in neighbors))\n",
    "    parent_map = {node: None for node in all_nodes}\n",
    "\n",
    "    while stack:\n",
    "        node = stack.pop()\n",
    "        if node.state == goal_state:\n",
    "            print_solution(node)\n",
    "            print()\n",
    "            print_dfs_steps(steps, all_nodes)\n",
    "            return\n",
    "        if node.state not in explored:\n",
    "            explored.add(node.state)\n",
    "            record_step(steps, all_nodes, node.state, stack, explored, parent_map)\n",
    "\n",
    "            for adjacent in reversed(graph.get(node.state, [])):  # Use reversed to simulate stack behavior\n",
    "                if adjacent not in explored:\n",
    "                    stack.append(Node(adjacent, node))\n",
    "                    parent_map[adjacent] = node.state\n",
    "\n",
    "    print(\"Failure\")\n",
    "    print_dfs_steps(steps, all_nodes)\n",
    "\n",
    "def record_step(steps, all_nodes, current, stack, explored, parent_map):\n",
    "    step = {\n",
    "        'current_node': current,\n",
    "        'stack': [n.state for n in stack],\n",
    "        'explored': list(explored),\n",
    "        'status': {n: '2' if n in explored else '1' if any(s.state == n for s in stack) else '0' for n in all_nodes},\n",
    "        'parents': {n: parent_map[n] if parent_map[n] is not None else '-' for n in all_nodes}\n",
    "    }\n",
    "    steps.append(step)\n",
    "\n",
    "def print_solution(node):\n",
    "    if node.parent:\n",
    "        print_solution(node.parent)\n",
    "    print(f\"{node.state} -> \", end='')\n",
    "\n",
    "def print_dfs_steps(steps, all_nodes):\n",
    "    print(\"\\nDFS Steps:\")\n",
    "    header = f\"{'Current Node':<15} {'STACK':<20} {'Processed Nodes':<30} {'Status':<20} {'Parent Nodes'}\"\n",
    "    print(header)\n",
    "    node_headers = ' '.join(sorted(all_nodes))\n",
    "    print(f\"{'':<65} {node_headers} {'':<20} {node_headers}\")\n",
    "    for step in steps:\n",
    "        status = ' '.join(step['status'][n] for n in sorted(all_nodes))\n",
    "        parents = ' '.join(step['parents'][n] for n in sorted(all_nodes))\n",
    "        print(f\"{step['current_node']:<15} {', '.join(step['stack']):<20} {', '.join(step['explored']):<30} {status:<20} {parents}\")\n",
    "\n",
    "if __name__ == \"__main__\":\n",
    "    graph = {\n",
    "        'A': ['B', 'C'],\n",
    "        'B': ['D', 'E'],\n",
    "        'C': ['F'],\n",
    "        'D': [],\n",
    "        'E': ['F'],\n",
    "        'F': []\n",
    "    }\n",
    "    dfs(graph, 'A', 'F')\n"
   ]
  },
  {
   "cell_type": "code",
   "execution_count": null,
   "id": "f38e6b21-e284-4f71-bb78-8cc0fc93e370",
   "metadata": {},
   "outputs": [],
   "source": []
  }
 ],
 "metadata": {
  "kernelspec": {
   "display_name": "Python 3 (ipykernel)",
   "language": "python",
   "name": "python3"
  },
  "language_info": {
   "codemirror_mode": {
    "name": "ipython",
    "version": 3
   },
   "file_extension": ".py",
   "mimetype": "text/x-python",
   "name": "python",
   "nbconvert_exporter": "python",
   "pygments_lexer": "ipython3",
   "version": "3.12.2"
  }
 },
 "nbformat": 4,
 "nbformat_minor": 5
}
