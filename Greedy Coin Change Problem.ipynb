{
 "cells": [
  {
   "cell_type": "markdown",
   "id": "71ca358c-b182-44e5-8b4a-4cc75f25c7eb",
   "metadata": {},
   "source": [
    "## Problem Statement:\n",
    "Given an amount of money and a set of coin denominations, the goal is to make the exact amount using the fewest number of coins. The coin change problem can be represented as a search problem where each state represents a different amount of money left to be made.\n",
    "\n",
    "State Space Components:\n",
    "\n",
    "State: The current amount of money that still needs to be made (remaining amount).\n",
    "\n",
    "Initial State: The total amount that needs to be made.\n",
    "\n",
    "Goal State: A remaining amount of 0 (meaning the exact amount has been made).\n",
    "\n",
    "Actions: Subtract a denomination's value from the current remaining amount (equivalent to choosing a coin).\n",
    "\n",
    "State Transition: Moving from one state to another by choosing a coin and reducing the remaining amount accordingly.\n",
    "\n",
    "Cost: The number of coins used to reach the current state.\n",
    "\n",
    "Heuristic (H): Typically, a heuristic can be the remaining amount itself, aiming to minimize it, or an estimate based on the largest coin denomination.\n",
    "\n",
    "Example:\n",
    "\n",
    "Let's consider a simple example where the available denominations are {1, 5, 10, 25} cents, and the goal is to make 111 cents."
   ]
  },
  {
   "cell_type": "code",
   "execution_count": 1,
   "id": "9d3a58ef-f2f2-4f09-b8e6-f09bcf64d289",
   "metadata": {},
   "outputs": [],
   "source": [
    "import heapq\n",
    "\n",
    "class Node:\n",
    "    def __init__(self, state, parent=None, path_cost=0, coin_used=None):\n",
    "        self.state = state  # Remaining amount to be made\n",
    "        self.parent = parent  # Previous state (for backtracking)\n",
    "        self.path_cost = path_cost  # Number of coins used\n",
    "        self.coin_used = coin_used  # The coin denomination used to reach this state\n",
    "\n",
    "    def __lt__(self, other):\n",
    "        return self.state < other.state  # Priority queue will use the remaining amount\n"
   ]
  },
  {
   "cell_type": "code",
   "execution_count": 2,
   "id": "6e0a42fa-0540-4a31-a30f-1e58c262192c",
   "metadata": {},
   "outputs": [],
   "source": [
    "def greedy_coin_change(total_amount, denominations):\n",
    "    # Create the initial node (starting with the total amount to be made)\n",
    "    initial_node = Node(state=total_amount)\n",
    "    # Initialize the frontier with the initial node\n",
    "    frontier = []\n",
    "    heapq.heappush(frontier, initial_node)\n",
    "    # Initialize the explored set (can use set for more complex cases)\n",
    "    explored = set()\n",
    "\n",
    "    print(f\"Starting search to make {total_amount} cents\")\n",
    "    \n",
    "    while frontier:\n",
    "        # Pop the node with the smallest remaining amount (greedily minimizing remaining amount)\n",
    "        node = heapq.heappop(frontier)\n",
    "\n",
    "        # Print the current state\n",
    "        if node.coin_used is not None:\n",
    "            print(f\"Selected coin {node.coin_used} cents, remaining amount: {node.state} cents\")\n",
    "\n",
    "        # Check if the goal has been reached (remaining amount is 0)\n",
    "        if node.state == 0:\n",
    "            return print_solution(node)\n",
    "\n",
    "        # Add the current state to the explored set\n",
    "        explored.add(node.state)\n",
    "\n",
    "        # Expand the node by considering each coin denomination\n",
    "        for coin in sorted(denominations, reverse=True):\n",
    "            new_state = node.state - coin\n",
    "            if new_state >= 0 and new_state not in explored:\n",
    "                child = Node(state=new_state, parent=node, path_cost=node.path_cost + 1, coin_used=coin)\n",
    "                heapq.heappush(frontier, child)\n",
    "\n",
    "    return \"Failure: No solution found.\"\n",
    "\n"
   ]
  },
  {
   "cell_type": "code",
   "execution_count": 3,
   "id": "c76deb8d-bfc0-485e-a1d2-c1cf6a987f01",
   "metadata": {},
   "outputs": [],
   "source": [
    "def print_solution(node):\n",
    "    coins = []\n",
    "    while node.parent is not None:\n",
    "        coins.append(node.coin_used)\n",
    "        node = node.parent\n",
    "    print(\"Solution found: \", \" + \".join(map(str, coins[::-1])), f\"= {sum(coins)} cents\")\n",
    "    print(f\"Total coins used: {len(coins)}\")\n"
   ]
  },
  {
   "cell_type": "code",
   "execution_count": 7,
   "id": "1882209b-48cf-4a0e-acac-21bdb82e1f2e",
   "metadata": {},
   "outputs": [
    {
     "name": "stdout",
     "output_type": "stream",
     "text": [
      "Starting search to make 111 cents\n",
      "Selected coin 25 cents, remaining amount: 86 cents\n",
      "Selected coin 25 cents, remaining amount: 61 cents\n",
      "Selected coin 25 cents, remaining amount: 36 cents\n",
      "Selected coin 25 cents, remaining amount: 11 cents\n",
      "Selected coin 10 cents, remaining amount: 1 cents\n",
      "Selected coin 1 cents, remaining amount: 0 cents\n",
      "Solution found:  25 + 25 + 25 + 25 + 10 + 1 = 111 cents\n",
      "Total coins used: 6\n"
     ]
    }
   ],
   "source": [
    "# Example usage\n",
    "if __name__ == \"__main__\":\n",
    "    # Denominations available\n",
    "    denominations = [25, 10, 5, 1]\n",
    "    # Total amount to be made\n",
    "    total_amount = 111\n",
    "\n",
    "    # Perform Greedy Best-First Search for Coin Change\n",
    "    solution = greedy_coin_change(total_amount, denominations)"
   ]
  },
  {
   "cell_type": "code",
   "execution_count": null,
   "id": "050f6cd4-3015-4109-901c-78c115a8324d",
   "metadata": {},
   "outputs": [],
   "source": []
  }
 ],
 "metadata": {
  "kernelspec": {
   "display_name": "Python 3 (ipykernel)",
   "language": "python",
   "name": "python3"
  },
  "language_info": {
   "codemirror_mode": {
    "name": "ipython",
    "version": 3
   },
   "file_extension": ".py",
   "mimetype": "text/x-python",
   "name": "python",
   "nbconvert_exporter": "python",
   "pygments_lexer": "ipython3",
   "version": "3.11.1"
  }
 },
 "nbformat": 4,
 "nbformat_minor": 5
}
