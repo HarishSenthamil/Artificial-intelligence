{
 "cells": [
  {
   "cell_type": "code",
   "execution_count": 29,
   "id": "143f4ae5-bc58-4274-a63e-3296bbf7bfa6",
   "metadata": {},
   "outputs": [
    {
     "name": "stdout",
     "output_type": "stream",
     "text": [
      "Solution found within depth limit 20 at depth 3:\n",
      "(1, 2, 3)\n",
      "(0, 4, 6)\n",
      "(7, 5, 8)\n",
      "\n",
      "(1, 2, 3)\n",
      "(4, 0, 6)\n",
      "(7, 5, 8)\n",
      "\n",
      "(1, 2, 3)\n",
      "(4, 5, 6)\n",
      "(7, 0, 8)\n",
      "\n",
      "(1, 2, 3)\n",
      "(4, 5, 6)\n",
      "(7, 8, 0)\n",
      "\n"
     ]
    }
   ],
   "source": [
    "from collections import deque\n",
    "GOAL_STATE = (1, 2, 3, 4, 5, 6, 7, 8, 0) \n",
    "MOVES = {\n",
    "    0: [1, 3],\n",
    "    1: [-1, 1, 3],\n",
    "    2: [-1, 3],\n",
    "    3: [-3, 1, 3],\n",
    "    4: [-3, -1, 1, 3],\n",
    "    5: [-3, -1, 3],\n",
    "    6: [-3, 1],\n",
    "    7: [-3, -1, 1],\n",
    "    8: [-3, -1]\n",
    "}\n",
    "\n",
    "def find_blank(state):\n",
    "    return state.index(0)\n",
    "def move(state, direction):\n",
    "    blank_index = find_blank(state)\n",
    "    new_state = list(state)\n",
    "    new_state[blank_index], new_state[blank_index + direction] = new_state[blank_index + direction], new_state[blank_index]\n",
    "    return tuple(new_state)\n",
    "def depth_limited_search(start_state, depth_limit):\n",
    "    if start_state == GOAL_STATE:\n",
    "        return [start_state]\n",
    "    \n",
    "    visited = set()\n",
    "    frontier = deque([(start_state, [start_state], 0)])  # (state, path, depth)\n",
    "    \n",
    "    while frontier:\n",
    "        state, path, depth = frontier.pop()\n",
    "        \n",
    "        if state == GOAL_STATE:\n",
    "            return path, depth\n",
    "        \n",
    "        if depth < depth_limit:\n",
    "            blank_index = find_blank(state)\n",
    "            possible_moves = MOVES[blank_index]\n",
    "            \n",
    "            for move_amount in possible_moves:\n",
    "                new_state = move(state, move_amount)\n",
    "                \n",
    "                if new_state not in visited:\n",
    "                    visited.add(new_state)\n",
    "                    new_path = path + [new_state]\n",
    "                    frontier.append((new_state, new_path, depth + 1))\n",
    "    \n",
    "    return None, None  \n",
    "def print_puzzle(state):\n",
    "    for i in range(0, 9, 3):\n",
    "        print(state[i:i+3])\n",
    "    print()\n",
    "if __name__ == \"__main__\":\n",
    "    initial_state = (1, 2, 3, 0, 4, 6, 7, 5, 8)  \n",
    "    depth_limit = 20\n",
    "    solution_path, solution_depth = depth_limited_search(initial_state, depth_limit)\n",
    "    \n",
    "    if solution_path:\n",
    "        print(f\"Solution found within depth limit {depth_limit} at depth {solution_depth}:\")\n",
    "        for state in solution_path:\n",
    "            print_puzzle(state)\n",
    "    else:\n",
    "        print(f\"No solution found within depth limit {depth_limit}.\")"
   ]
  },
  {
   "cell_type": "code",
   "execution_count": null,
   "id": "89d65add-817c-4125-9629-cdefaa6eecc3",
   "metadata": {},
   "outputs": [],
   "source": []
  }
 ],
 "metadata": {
  "kernelspec": {
   "display_name": "Python 3 (ipykernel)",
   "language": "python",
   "name": "python3"
  },
  "language_info": {
   "codemirror_mode": {
    "name": "ipython",
    "version": 3
   },
   "file_extension": ".py",
   "mimetype": "text/x-python",
   "name": "python",
   "nbconvert_exporter": "python",
   "pygments_lexer": "ipython3",
   "version": "3.12.4"
  }
 },
 "nbformat": 4,
 "nbformat_minor": 5
}
